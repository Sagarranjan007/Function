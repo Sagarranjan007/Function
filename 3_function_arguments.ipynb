{
  "nbformat": 4,
  "nbformat_minor": 0,
  "metadata": {
    "kernelspec": {
      "display_name": "Python 3",
      "language": "python",
      "name": "python3"
    },
    "language_info": {
      "codemirror_mode": {
        "name": "ipython",
        "version": 3
      },
      "file_extension": ".py",
      "mimetype": "text/x-python",
      "name": "python",
      "nbconvert_exporter": "python",
      "pygments_lexer": "ipython3",
      "version": "3.6.1"
    },
    "colab": {
      "name": "3_function_arguments.ipynb",
      "provenance": [],
      "include_colab_link": true
    }
  },
  "cells": [
    {
      "cell_type": "markdown",
      "metadata": {
        "id": "view-in-github",
        "colab_type": "text"
      },
      "source": [
        "<a href=\"https://colab.research.google.com/github/Sagarranjan007/Function/blob/master/3_function_arguments.ipynb\" target=\"_parent\"><img src=\"https://colab.research.google.com/assets/colab-badge.svg\" alt=\"Open In Colab\"/></a>"
      ]
    },
    {
      "cell_type": "markdown",
      "metadata": {
        "id": "bTtyGGON9ISU",
        "colab_type": "text"
      },
      "source": [
        "# Function Arguments\n"
      ]
    },
    {
      "cell_type": "code",
      "metadata": {
        "id": "vG0y6VCo9ISW",
        "colab_type": "code",
        "colab": {
          "base_uri": "https://localhost:8080/",
          "height": 34
        },
        "outputId": "1a4a8289-5cf0-4902-9dea-7379da0e3022"
      },
      "source": [
        "def greet(name, msg):\n",
        "    \"\"\"\n",
        "    This function greets to person with the provided message\n",
        "    \"\"\"\n",
        "    print(\"Hello {0} , {1}\".format(name, msg))\n",
        "\n",
        "#call the function with arguments\n",
        "greet(\"satish\", \"Good Morning\")\n"
      ],
      "execution_count": 1,
      "outputs": [
        {
          "output_type": "stream",
          "text": [
            "Hello satish , Good Morning\n"
          ],
          "name": "stdout"
        }
      ]
    },
    {
      "cell_type": "code",
      "metadata": {
        "id": "Hr-BOxdS9ISc",
        "colab_type": "code",
        "colab": {
          "base_uri": "https://localhost:8080/",
          "height": 34
        },
        "outputId": "e154eda0-c5f9-4d45-da40-ac6edbbb8820"
      },
      "source": [
        "#suppose if we pass one argument\n",
        "\n",
        "greet(\"satish\",\"haguri\") #will get an error\n"
      ],
      "execution_count": 2,
      "outputs": [
        {
          "output_type": "stream",
          "text": [
            "Hello satish , haguri\n"
          ],
          "name": "stdout"
        }
      ]
    },
    {
      "cell_type": "markdown",
      "metadata": {
        "id": "PDfiWLqG9ISg",
        "colab_type": "text"
      },
      "source": [
        "# Different Forms of Arguments"
      ]
    },
    {
      "cell_type": "markdown",
      "metadata": {
        "id": "NGvHI0fX9ISh",
        "colab_type": "text"
      },
      "source": [
        "# 1. Default Arguments"
      ]
    },
    {
      "cell_type": "markdown",
      "metadata": {
        "id": "UDuoy7mt9ISh",
        "colab_type": "text"
      },
      "source": [
        "We can provide a default value to an argument by using the assignment operator (=). "
      ]
    },
    {
      "cell_type": "code",
      "metadata": {
        "id": "__HfCnWJ9ISi",
        "colab_type": "code",
        "colab": {
          "base_uri": "https://localhost:8080/",
          "height": 34
        },
        "outputId": "fb955148-aafd-4cbe-d019-c6cb68737b19"
      },
      "source": [
        "def greet(name, msg=\"Good Morning\"):\n",
        "    \"\"\"\n",
        "    This function greets to person with the provided message\n",
        "    if message is not provided, it defaults to \"Good Morning\"\n",
        "    \"\"\"\n",
        "    print(\"Hello {0} , {1}\".format(name, msg))\n",
        "\n",
        "greet(\"satish\", \"Good Night\")\n"
      ],
      "execution_count": 3,
      "outputs": [
        {
          "output_type": "stream",
          "text": [
            "Hello satish , Good Night\n"
          ],
          "name": "stdout"
        }
      ]
    },
    {
      "cell_type": "code",
      "metadata": {
        "id": "Jn9xI46G9ISm",
        "colab_type": "code",
        "colab": {
          "base_uri": "https://localhost:8080/",
          "height": 34
        },
        "outputId": "526af6a5-6a7d-47d1-d1c3-4bfe58abf7ab"
      },
      "source": [
        "#with out msg argument\n",
        "greet(\"satish\")\n"
      ],
      "execution_count": 5,
      "outputs": [
        {
          "output_type": "stream",
          "text": [
            "Hello satish , Good Morning\n"
          ],
          "name": "stdout"
        }
      ]
    },
    {
      "cell_type": "markdown",
      "metadata": {
        "id": "vkS2eVMk9ISp",
        "colab_type": "text"
      },
      "source": [
        "Once we have a default argument, all the arguments to its right must also have default values."
      ]
    },
    {
      "cell_type": "markdown",
      "metadata": {
        "id": "TuZqxAkA9ISq",
        "colab_type": "text"
      },
      "source": [
        "def greet(msg=\"Good Morning\", name)   \n",
        "\n",
        "#will get a SyntaxError : non-default argument follows default argument"
      ]
    },
    {
      "cell_type": "markdown",
      "metadata": {
        "id": "hEoUwv-R9ISq",
        "colab_type": "text"
      },
      "source": [
        "# 2. Keyword Arguments"
      ]
    },
    {
      "cell_type": "markdown",
      "metadata": {
        "id": "_jpfMoN29ISs",
        "colab_type": "text"
      },
      "source": [
        "kwargs allows you to pass keyworded variable length of arguments to a function. You should use **kwargs if you want to handle named arguments in a function"
      ]
    },
    {
      "cell_type": "markdown",
      "metadata": {
        "id": "lCigkvI09ISt",
        "colab_type": "text"
      },
      "source": [
        "# Example:"
      ]
    },
    {
      "cell_type": "code",
      "metadata": {
        "id": "tGeFK7iK9ISt",
        "colab_type": "code",
        "colab": {
          "base_uri": "https://localhost:8080/",
          "height": 34
        },
        "outputId": "b1abf391-f231-4a45-9833-8bd918478d8b"
      },
      "source": [
        "def greet(**kwargs):\n",
        "    \"\"\"\n",
        "    This function greets to person with the provided message\n",
        "    \"\"\"\n",
        "    if kwargs:\n",
        "        print(\"Hello {0} , {1},{2}\".format(kwargs['name'], kwargs['msg'],kwargs['rollno']))\n",
        "greet(name=\"satish\", msg=\"Good Morning\",rollno=\"1701106065\")\n"
      ],
      "execution_count": 10,
      "outputs": [
        {
          "output_type": "stream",
          "text": [
            "Hello satish , Good Morning,1701106065\n"
          ],
          "name": "stdout"
        }
      ]
    },
    {
      "cell_type": "markdown",
      "metadata": {
        "id": "0Fz5yNiY9ISw",
        "colab_type": "text"
      },
      "source": [
        "# 3. Arbitary Arguments"
      ]
    },
    {
      "cell_type": "markdown",
      "metadata": {
        "id": "b9s47K039ISx",
        "colab_type": "text"
      },
      "source": [
        "Sometimes, we do not know in advance the number of arguments that will be passed into a function.Python allows us to handle this kind of situation through function calls with arbitrary number of arguments."
      ]
    },
    {
      "cell_type": "markdown",
      "metadata": {
        "id": "Z9_NNEyk9ISy",
        "colab_type": "text"
      },
      "source": [
        "# Example:"
      ]
    },
    {
      "cell_type": "code",
      "metadata": {
        "id": "liGhEcRa9ISy",
        "colab_type": "code",
        "colab": {
          "base_uri": "https://localhost:8080/",
          "height": 102
        },
        "outputId": "d56b33c5-559b-4688-a8c7-d719b59e20ba"
      },
      "source": [
        "def greet(*names):\n",
        "    \"\"\"\n",
        "    This function greets all persons in the names tuple \n",
        "    \"\"\"\n",
        "    print(names)\n",
        "    \n",
        "    for name in names:\n",
        "        print(\"Hello,  {0} \".format(name))\n",
        "\n",
        "greet(\"satish\", \"murali\", \"naveen\", \"srikanth\")\n"
      ],
      "execution_count": 11,
      "outputs": [
        {
          "output_type": "stream",
          "text": [
            "('satish', 'murali', 'naveen', 'srikanth')\n",
            "Hello,  satish \n",
            "Hello,  murali \n",
            "Hello,  naveen \n",
            "Hello,  srikanth \n"
          ],
          "name": "stdout"
        }
      ]
    },
    {
      "cell_type": "code",
      "metadata": {
        "id": "oQA_4Koc9IS1",
        "colab_type": "code",
        "colab": {}
      },
      "source": [
        ""
      ],
      "execution_count": 0,
      "outputs": []
    }
  ]
}