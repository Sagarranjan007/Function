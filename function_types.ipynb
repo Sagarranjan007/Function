{
  "nbformat": 4,
  "nbformat_minor": 0,
  "metadata": {
    "colab": {
      "name": "function_types.ipynb",
      "provenance": [],
      "include_colab_link": true
    },
    "kernelspec": {
      "display_name": "Python 3",
      "language": "python",
      "name": "python3"
    }
  },
  "cells": [
    {
      "cell_type": "markdown",
      "metadata": {
        "id": "view-in-github",
        "colab_type": "text"
      },
      "source": [
        "<a href=\"https://colab.research.google.com/github/Sagarranjan007/Function/blob/master/function_types.ipynb\" target=\"_parent\"><img src=\"https://colab.research.google.com/assets/colab-badge.svg\" alt=\"Open In Colab\"/></a>"
      ]
    },
    {
      "cell_type": "markdown",
      "metadata": {
        "id": "RqxIugMnDy18",
        "colab_type": "text"
      },
      "source": [
        "# Types Of Functions"
      ]
    },
    {
      "cell_type": "markdown",
      "metadata": {
        "id": "MeGY4QcFDy2B",
        "colab_type": "text"
      },
      "source": [
        "1. Built-in Functions\n",
        "\n",
        "2. User-defined Functions"
      ]
    },
    {
      "cell_type": "markdown",
      "metadata": {
        "id": "ilt0Wb4sDy2E",
        "colab_type": "text"
      },
      "source": [
        "# Built-in Functions"
      ]
    },
    {
      "cell_type": "markdown",
      "metadata": {
        "id": "ubtJWhwrDy2F",
        "colab_type": "text"
      },
      "source": [
        "# 1. abs()"
      ]
    },
    {
      "cell_type": "code",
      "metadata": {
        "id": "cs7rqfNGDy2H",
        "colab_type": "code",
        "outputId": "dbe2f7ab-ff3f-45b3-cc3b-d50c27f864bf",
        "colab": {
          "base_uri": "https://localhost:8080/",
          "height": 34
        }
      },
      "source": [
        "# find the absolute value\n",
        "\n",
        "num = -100\n",
        "\n",
        "print(abs(num))\n"
      ],
      "execution_count": 1,
      "outputs": [
        {
          "output_type": "stream",
          "text": [
            "100\n"
          ],
          "name": "stdout"
        }
      ]
    },
    {
      "cell_type": "markdown",
      "metadata": {
        "id": "Ao4an2SJDy2V",
        "colab_type": "text"
      },
      "source": [
        "# 2. all()"
      ]
    },
    {
      "cell_type": "markdown",
      "metadata": {
        "id": "s7KNa-qjDy2X",
        "colab_type": "text"
      },
      "source": [
        "#return value of all() function\n",
        "\n",
        "True: if all elements in an iterable are true\n",
        "\n",
        "False: if any element in an iterable is false"
      ]
    },
    {
      "cell_type": "code",
      "metadata": {
        "id": "BUYpaNxDDy2Z",
        "colab_type": "code",
        "outputId": "d6acb345-dad6-49e7-e691-7b0a94185a1e",
        "colab": {
          "base_uri": "https://localhost:8080/",
          "height": 34
        }
      },
      "source": [
        "lst = [1, 2, 3, 4]\n",
        "print(all(lst)) \n"
      ],
      "execution_count": 2,
      "outputs": [
        {
          "output_type": "stream",
          "text": [
            "True\n"
          ],
          "name": "stdout"
        }
      ]
    },
    {
      "cell_type": "code",
      "metadata": {
        "id": "PMh2XjhmDy2g",
        "colab_type": "code",
        "outputId": "7a2a897b-6fbf-4bdc-c1eb-188e3f39657a",
        "colab": {
          "base_uri": "https://localhost:8080/",
          "height": 34
        }
      },
      "source": [
        "lst = (0, 2, 3, 4)    # 0 present in list \n",
        "print(all(lst))\n"
      ],
      "execution_count": 3,
      "outputs": [
        {
          "output_type": "stream",
          "text": [
            "False\n"
          ],
          "name": "stdout"
        }
      ]
    },
    {
      "cell_type": "code",
      "metadata": {
        "id": "7hiGJvgj3Kyo",
        "colab_type": "code",
        "colab": {
          "base_uri": "https://localhost:8080/",
          "height": 51
        },
        "outputId": "96b9a710-fb05-4392-91d0-95e56a44766e"
      },
      "source": [
        "print(0)\n",
        "type(0)"
      ],
      "execution_count": 5,
      "outputs": [
        {
          "output_type": "stream",
          "text": [
            "0\n"
          ],
          "name": "stdout"
        },
        {
          "output_type": "execute_result",
          "data": {
            "text/plain": [
              "int"
            ]
          },
          "metadata": {
            "tags": []
          },
          "execution_count": 5
        }
      ]
    },
    {
      "cell_type": "code",
      "metadata": {
        "id": "A1612gmHDy2n",
        "colab_type": "code",
        "outputId": "84a400a5-6d60-4112-e874-c01d70ea1d3e",
        "colab": {
          "base_uri": "https://localhost:8080/",
          "height": 34
        }
      },
      "source": [
        "lst = []              #empty list always true\n",
        "print(all(lst))\n",
        "\n"
      ],
      "execution_count": 8,
      "outputs": [
        {
          "output_type": "stream",
          "text": [
            "True\n"
          ],
          "name": "stdout"
        }
      ]
    },
    {
      "cell_type": "code",
      "metadata": {
        "id": "EFwmHv_kDy2v",
        "colab_type": "code",
        "outputId": "4bbb7a9b-2dec-4763-ecb3-b5543dc10fb4",
        "colab": {
          "base_uri": "https://localhost:8080/",
          "height": 34
        }
      },
      "source": [
        "lst = [False, 1, 2]   #False present in a list so all(lst) is False\n",
        "print(all(lst))\n"
      ],
      "execution_count": 9,
      "outputs": [
        {
          "output_type": "stream",
          "text": [
            "False\n"
          ],
          "name": "stdout"
        }
      ]
    },
    {
      "cell_type": "markdown",
      "metadata": {
        "id": "Vpyu5OLGDy2z",
        "colab_type": "text"
      },
      "source": [
        "# dir()"
      ]
    },
    {
      "cell_type": "markdown",
      "metadata": {
        "id": "hKSi83LiDy20",
        "colab_type": "text"
      },
      "source": [
        "The dir() tries to return a list of valid attributes of the object.\n",
        "\n",
        "If the object has __dir__() method, the method will be called and must return the list of attributes.\n",
        "\n",
        "If the object doesn't have __dir()__ method, this method tries to find information from the __dict__ attribute (if defined), and from type object. In this case, the list returned from dir() may not be complete.\n"
      ]
    },
    {
      "cell_type": "code",
      "metadata": {
        "id": "x3-LaQj8Dy22",
        "colab_type": "code",
        "outputId": "749ab684-cbc6-49c6-a4ed-af29c38eb463",
        "colab": {
          "base_uri": "https://localhost:8080/",
          "height": 54
        }
      },
      "source": [
        "numbers = [1, 2, 3]\n",
        "\n",
        "print(dir(numbers))\n"
      ],
      "execution_count": 10,
      "outputs": [
        {
          "output_type": "stream",
          "text": [
            "['__add__', '__class__', '__contains__', '__delattr__', '__delitem__', '__dir__', '__doc__', '__eq__', '__format__', '__ge__', '__getattribute__', '__getitem__', '__gt__', '__hash__', '__iadd__', '__imul__', '__init__', '__init_subclass__', '__iter__', '__le__', '__len__', '__lt__', '__mul__', '__ne__', '__new__', '__reduce__', '__reduce_ex__', '__repr__', '__reversed__', '__rmul__', '__setattr__', '__setitem__', '__sizeof__', '__str__', '__subclasshook__', 'append', 'clear', 'copy', 'count', 'extend', 'index', 'insert', 'pop', 'remove', 'reverse', 'sort']\n"
          ],
          "name": "stdout"
        }
      ]
    },
    {
      "cell_type": "markdown",
      "metadata": {
        "id": "qAkLDrzDDy27",
        "colab_type": "text"
      },
      "source": [
        "# divmod()"
      ]
    },
    {
      "cell_type": "markdown",
      "metadata": {
        "id": "Z7PAJz9RDy28",
        "colab_type": "text"
      },
      "source": [
        "The divmod() method takes two numbers and returns a pair of numbers (a tuple) consisting of their quotient and remainder."
      ]
    },
    {
      "cell_type": "code",
      "metadata": {
        "id": "6V3UUIj-Dy29",
        "colab_type": "code",
        "outputId": "5e7a58f2-d4d0-4fee-e709-44b1af76474b",
        "colab": {
          "base_uri": "https://localhost:8080/",
          "height": 34
        }
      },
      "source": [
        "print(divmod(9, 2)) #print quotient and remainder as a tuple\n",
        "\n",
        "#try with other number\n"
      ],
      "execution_count": 11,
      "outputs": [
        {
          "output_type": "stream",
          "text": [
            "(4, 1)\n"
          ],
          "name": "stdout"
        }
      ]
    },
    {
      "cell_type": "markdown",
      "metadata": {
        "id": "3XcOj4ahDy3A",
        "colab_type": "text"
      },
      "source": [
        "# enumerate()"
      ]
    },
    {
      "cell_type": "markdown",
      "metadata": {
        "id": "sPGIxThfDy3C",
        "colab_type": "text"
      },
      "source": [
        "The enumerate() method adds counter to an iterable and returns it "
      ]
    },
    {
      "cell_type": "markdown",
      "metadata": {
        "id": "PsPTJ9w3Dy3C",
        "colab_type": "text"
      },
      "source": [
        "syntax: enumerate(iterable, start=0)"
      ]
    },
    {
      "cell_type": "code",
      "metadata": {
        "id": "LzYe1WyTDy3E",
        "colab_type": "code",
        "outputId": "46702d3e-10c9-4c65-879a-887080310ce4",
        "colab": {
          "base_uri": "https://localhost:8080/",
          "height": 85
        }
      },
      "source": [
        "numbers = [10, 20, 30, 40]\n",
        "\n",
        "for index, num in enumerate(numbers,10):\n",
        "    print(\"index {0} has value {1}\".format(index, num))\n",
        "    "
      ],
      "execution_count": 12,
      "outputs": [
        {
          "output_type": "stream",
          "text": [
            "index 10 has value 10\n",
            "index 11 has value 20\n",
            "index 12 has value 30\n",
            "index 13 has value 40\n"
          ],
          "name": "stdout"
        }
      ]
    },
    {
      "cell_type": "markdown",
      "metadata": {
        "id": "Qv7BOrOjDy3I",
        "colab_type": "text"
      },
      "source": [
        "# filter()"
      ]
    },
    {
      "cell_type": "markdown",
      "metadata": {
        "id": "K8_DVZ2uDy3J",
        "colab_type": "text"
      },
      "source": [
        "The filter() method constructs an iterator from elements of an iterable for which a function returns true."
      ]
    },
    {
      "cell_type": "markdown",
      "metadata": {
        "id": "Xsq_-ITBDy3K",
        "colab_type": "text"
      },
      "source": [
        "syntax: filter(function, iterable)"
      ]
    },
    {
      "cell_type": "code",
      "metadata": {
        "id": "-Nclc6WjDy3L",
        "colab_type": "code",
        "colab": {}
      },
      "source": [
        "def find_positive_number(num):\n",
        "    \"\"\"\n",
        "    This function returns the positive number if num is positive\n",
        "    \"\"\"\n",
        "    if num > 0:\n",
        "        return num\n",
        "    "
      ],
      "execution_count": 0,
      "outputs": []
    },
    {
      "cell_type": "code",
      "metadata": {
        "id": "ef_Se6snDy3Q",
        "colab_type": "code",
        "outputId": "cb09c426-8bce-4014-bd89-bef5fa9a07f8",
        "colab": {
          "base_uri": "https://localhost:8080/",
          "height": 51
        }
      },
      "source": [
        "number_list = range(-10, 10) #create a list with numbers from -10 to 10\n",
        "print(list(number_list))\n",
        "\n",
        "positive_num_lst = list(filter(find_positive_number, number_list))\n",
        "\n",
        "print(positive_num_lst)\n"
      ],
      "execution_count": 14,
      "outputs": [
        {
          "output_type": "stream",
          "text": [
            "[-10, -9, -8, -7, -6, -5, -4, -3, -2, -1, 0, 1, 2, 3, 4, 5, 6, 7, 8, 9]\n",
            "[1, 2, 3, 4, 5, 6, 7, 8, 9]\n"
          ],
          "name": "stdout"
        }
      ]
    },
    {
      "cell_type": "markdown",
      "metadata": {
        "id": "i1jHDq_5Dy3Z",
        "colab_type": "text"
      },
      "source": [
        "# isinstance()"
      ]
    },
    {
      "cell_type": "markdown",
      "metadata": {
        "id": "eSZpUEYnDy3b",
        "colab_type": "text"
      },
      "source": [
        "The isinstance() function checks if the object (first argument) is an instance or subclass of classinfo class (second argument)."
      ]
    },
    {
      "cell_type": "markdown",
      "metadata": {
        "id": "JYB_W3vfDy3e",
        "colab_type": "text"
      },
      "source": [
        "syntax: isinstance(object, classinfo)"
      ]
    },
    {
      "cell_type": "code",
      "metadata": {
        "id": "JMAYKKXZDy3f",
        "colab_type": "code",
        "outputId": "ddf65257-fa32-4e2b-ec6e-9c16cd1548d1",
        "colab": {
          "base_uri": "https://localhost:8080/",
          "height": 51
        }
      },
      "source": [
        "lst = [1, 2, 3, 4]\n",
        "print(isinstance(lst, list))\n",
        "\n",
        "#try with other datatypes tuple, set\n",
        "t = (1,2,3,4)\n",
        "print(isinstance(t, list))"
      ],
      "execution_count": 15,
      "outputs": [
        {
          "output_type": "stream",
          "text": [
            "True\n",
            "False\n"
          ],
          "name": "stdout"
        }
      ]
    },
    {
      "cell_type": "markdown",
      "metadata": {
        "id": "0SzHgv87Dy3k",
        "colab_type": "text"
      },
      "source": [
        "# map()"
      ]
    },
    {
      "cell_type": "markdown",
      "metadata": {
        "id": "eAqVlxbtDy3m",
        "colab_type": "text"
      },
      "source": [
        "Map applies a function to all the items in an input_list."
      ]
    },
    {
      "cell_type": "markdown",
      "metadata": {
        "id": "oHivUTbRDy3m",
        "colab_type": "text"
      },
      "source": [
        "syntax: map(function_to_apply, list_of_inputs)"
      ]
    },
    {
      "cell_type": "code",
      "metadata": {
        "id": "YrzZKvFMDy3n",
        "colab_type": "code",
        "outputId": "a7967e30-fffc-4965-eb51-d03c9f8517f7",
        "colab": {
          "base_uri": "https://localhost:8080/",
          "height": 34
        }
      },
      "source": [
        "numbers = [1, 2, 3, 4]\n",
        "\n",
        "#normal method of computing num^2 for each element in the list.\n",
        "squared = []\n",
        "for num in numbers:\n",
        "    squared.append(num ** 2)\n",
        "\n",
        "print(squared)\n"
      ],
      "execution_count": 17,
      "outputs": [
        {
          "output_type": "stream",
          "text": [
            "[1, 4, 9, 16]\n"
          ],
          "name": "stdout"
        }
      ]
    },
    {
      "cell_type": "code",
      "metadata": {
        "id": "SWKg9_nYDy3r",
        "colab_type": "code",
        "outputId": "8273ac2f-91eb-49ac-8fd2-8e4518b62b8c",
        "colab": {
          "base_uri": "https://localhost:8080/",
          "height": 34
        }
      },
      "source": [
        "numbers = [1, 2, 3, 4]\n",
        "\n",
        "def powerOfTwo(num):\n",
        "    return num ** 2\n",
        "\n",
        "#using map() function\n",
        "squared = list(map(powerOfTwo, numbers))\n",
        "print(squared)\n"
      ],
      "execution_count": 19,
      "outputs": [
        {
          "output_type": "stream",
          "text": [
            "[1, 4, 9, 16]\n"
          ],
          "name": "stdout"
        }
      ]
    },
    {
      "cell_type": "markdown",
      "metadata": {
        "id": "-ZZiI7m5Dy3t",
        "colab_type": "text"
      },
      "source": [
        "# reduce()"
      ]
    },
    {
      "cell_type": "markdown",
      "metadata": {
        "id": "u_pxdMIcDy3v",
        "colab_type": "text"
      },
      "source": [
        "reduce() function is for performing some computation on a list and returning the result. \n",
        "\n",
        "It applies a rolling computation to sequential pairs of values in a list. "
      ]
    },
    {
      "cell_type": "code",
      "metadata": {
        "id": "jqx-xAf7Dy3w",
        "colab_type": "code",
        "outputId": "b53d647e-fd88-4a19-98b8-4993a4835120",
        "colab": {
          "base_uri": "https://localhost:8080/",
          "height": 34
        }
      },
      "source": [
        "#product of elemnts in a list\n",
        "product = 1\n",
        "lst = [1, 2, 3, 4]\n",
        "\n",
        "# traditional program without reduce()\n",
        "for num in lst:\n",
        "    product *= num\n",
        "print(product)\n"
      ],
      "execution_count": 20,
      "outputs": [
        {
          "output_type": "stream",
          "text": [
            "24\n"
          ],
          "name": "stdout"
        }
      ]
    },
    {
      "cell_type": "code",
      "metadata": {
        "id": "c-_BNfapDy3y",
        "colab_type": "code",
        "outputId": "e9bb64ea-5b52-404f-c123-3fed056b21c3",
        "colab": {
          "base_uri": "https://localhost:8080/",
          "height": 34
        }
      },
      "source": [
        "#with reduce()\n",
        "from functools import reduce # in Python 3.\n",
        "\n",
        "def multiply(x,y):\n",
        "    return x*y;\n",
        "\n",
        "product = reduce(multiply, lst)\n",
        "print(product)\n"
      ],
      "execution_count": 21,
      "outputs": [
        {
          "output_type": "stream",
          "text": [
            "24\n"
          ],
          "name": "stdout"
        }
      ]
    },
    {
      "cell_type": "markdown",
      "metadata": {
        "id": "PlBjfKeLDy33",
        "colab_type": "text"
      },
      "source": [
        "# 2. User-defined Functions"
      ]
    },
    {
      "cell_type": "markdown",
      "metadata": {
        "id": "-jG1cIkIDy33",
        "colab_type": "text"
      },
      "source": [
        "Functions that we define ourselves to do certain specific task are referred as user-defined functions"
      ]
    },
    {
      "cell_type": "markdown",
      "metadata": {
        "id": "U0R-nQZEDy35",
        "colab_type": "text"
      },
      "source": [
        "If we use functions written by others in the form of library, it can be termed as library functions."
      ]
    },
    {
      "cell_type": "markdown",
      "metadata": {
        "id": "qnW4EEEaDy36",
        "colab_type": "text"
      },
      "source": [
        "# Advantages"
      ]
    },
    {
      "cell_type": "markdown",
      "metadata": {
        "id": "BuTGBpe_Dy36",
        "colab_type": "text"
      },
      "source": [
        "1. User-defined functions help to decompose a large program into small segments which makes program easy to understand, maintain and debug.\n",
        "\n",
        "2. If repeated code occurs in a program. Function can be used to include those codes and execute when needed by calling that function.\n",
        "\n",
        "3. Programmars working on large project can divide the workload by making different functions."
      ]
    },
    {
      "cell_type": "markdown",
      "metadata": {
        "id": "bchAt3KsDy37",
        "colab_type": "text"
      },
      "source": [
        "# Example:"
      ]
    },
    {
      "cell_type": "code",
      "metadata": {
        "id": "Bl7T01heDy3-",
        "colab_type": "code",
        "outputId": "6bebf003-d9eb-4864-8f55-bdd06a660b13",
        "colab": {
          "base_uri": "https://localhost:8080/",
          "height": 130
        }
      },
      "source": [
        "def product_numbers(a, b):\n",
        "    \"\"\"\n",
        "    this function returns the product of two numbers\n",
        "    \"\"\"\n",
        "    product = a * b\n",
        "    return product\n",
        "\n",
        "num1 = 10\n",
        "num2 = 20\n",
        "print (\"product of {0} and {1} is {2} \".format(num1, num2, product_numbers(num1, num2)"
      ],
      "execution_count": 24,
      "outputs": [
        {
          "output_type": "error",
          "ename": "SyntaxError",
          "evalue": "ignored",
          "traceback": [
            "\u001b[0;36m  File \u001b[0;32m\"<ipython-input-24-1110911642f1>\"\u001b[0;36m, line \u001b[0;32m10\u001b[0m\n\u001b[0;31m    print (\"product of {0} and {1} is {2} \".format(num1, num2, product_numbers(num1, num2)\u001b[0m\n\u001b[0m                                                                                          ^\u001b[0m\n\u001b[0;31mSyntaxError\u001b[0m\u001b[0;31m:\u001b[0m unexpected EOF while parsing\n"
          ]
        }
      ]
    },
    {
      "cell_type": "markdown",
      "metadata": {
        "id": "3t1WqaakDy4B",
        "colab_type": "text"
      },
      "source": [
        "# Python program to make a simple calculator that can add, subtract, multiply and division"
      ]
    },
    {
      "cell_type": "code",
      "metadata": {
        "id": "7VcPOrmLDy4E",
        "colab_type": "code",
        "outputId": "ad9d346c-e63f-4a02-91e1-55232b84982e",
        "colab": {
          "base_uri": "https://localhost:8080/",
          "height": 170
        }
      },
      "source": [
        "def add(a, b):\n",
        "    \"\"\"\n",
        "    This function adds two numbers\n",
        "    \"\"\"\n",
        "    return a + b\n",
        "\n",
        "def multiply(a, b):\n",
        "    \"\"\"\n",
        "    This function multiply two numbers\n",
        "    \"\"\"\n",
        "    return a * b\n",
        "\n",
        "def subtract(a, b):\n",
        "    \"\"\"\n",
        "    This function subtract two numbers\n",
        "    \"\"\"\n",
        "    return a - b\n",
        "\n",
        "def division(a, b):\n",
        "    \"\"\"\n",
        "    This function divides two numbers\n",
        "    \"\"\"\n",
        "    return a / b\n",
        "\n",
        "print(\"Select Option\")\n",
        "print(\"1. Addition\")\n",
        "print (\"2. Subtraction\")\n",
        "print (\"3. Multiplication\")\n",
        "print (\"4. Division\")\n",
        "\n",
        "#take input from user\n",
        "choice = int(input(\"Enter choice 1/2/3/4\"))\n",
        "\n",
        "num1 = float(input(\"Enter first number:\"))\n",
        "num2 = float(input(\"Enter second number:\"))\n",
        "if choice == 1:\n",
        "    print(\"Addition of {0} and {1} is {2}\".format(num1, num2, add(num1, num2)))\n",
        "elif choice == 2:\n",
        "    print(\"Subtraction of {0} and {1} is {2}\".format(num1, num2, subtract(num1, num2)))\n",
        "elif choice == 3:\n",
        "    print(\"Multiplication of {0} and {1} is {2}\".format(num1, num2, multiply(num1, num2)))\n",
        "elif choice == 4:\n",
        "    print(\"Division of {0} and {1} is {2}\".format(num1, num2, division(num1, num2)))\n",
        "else:\n",
        "    print(\"Invalid Choice\")"
      ],
      "execution_count": 25,
      "outputs": [
        {
          "output_type": "stream",
          "text": [
            "Select Option\n",
            "1. Addition\n",
            "2. Subtraction\n",
            "3. Multiplication\n",
            "4. Division\n",
            "Enter choice 1/2/3/41\n",
            "Enter first number:2\n",
            "Enter second number:3\n",
            "Addition of 2.0 and 3.0 is 5.0\n"
          ],
          "name": "stdout"
        }
      ]
    },
    {
      "cell_type": "code",
      "metadata": {
        "id": "aQZUmO9xDy4G",
        "colab_type": "code",
        "colab": {}
      },
      "source": [
        ""
      ],
      "execution_count": 0,
      "outputs": []
    }
  ]
}