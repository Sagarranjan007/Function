{
  "nbformat": 4,
  "nbformat_minor": 0,
  "metadata": {
    "kernelspec": {
      "display_name": "Python 3",
      "language": "python",
      "name": "python3"
    },
    "language_info": {
      "codemirror_mode": {
        "name": "ipython",
        "version": 3
      },
      "file_extension": ".py",
      "mimetype": "text/x-python",
      "name": "python",
      "nbconvert_exporter": "python",
      "pygments_lexer": "ipython3",
      "version": "3.6.1"
    },
    "colab": {
      "name": "6_modules.ipynb",
      "provenance": [],
      "include_colab_link": true
    }
  },
  "cells": [
    {
      "cell_type": "markdown",
      "metadata": {
        "id": "view-in-github",
        "colab_type": "text"
      },
      "source": [
        "<a href=\"https://colab.research.google.com/github/Sagarranjan007/Function/blob/master/6_modules.ipynb\" target=\"_parent\"><img src=\"https://colab.research.google.com/assets/colab-badge.svg\" alt=\"Open In Colab\"/></a>"
      ]
    },
    {
      "cell_type": "markdown",
      "metadata": {
        "id": "NDrXKN-NHeYR",
        "colab_type": "text"
      },
      "source": [
        "# Modules"
      ]
    },
    {
      "cell_type": "markdown",
      "metadata": {
        "id": "i0AVpPtvHeYU",
        "colab_type": "text"
      },
      "source": [
        "Modules refer to a file containing Python statements and definitions.\n",
        "\n",
        "A file containing Python code, for e.g.: abc.py, is called a module and its module name would be \"abc\"."
      ]
    },
    {
      "cell_type": "markdown",
      "metadata": {
        "id": "Cncmoy9XHeYW",
        "colab_type": "text"
      },
      "source": [
        "We use modules to break down large programs into small manageable and organized files. Furthermore, modules provide reusability of code.\n",
        "\n",
        "We can define our most used functions in a module and import it, instead of copying their definitions into different programs."
      ]
    },
    {
      "cell_type": "markdown",
      "metadata": {
        "id": "OMq5zEJZHeYY",
        "colab_type": "text"
      },
      "source": [
        "# How to import a module?"
      ]
    },
    {
      "cell_type": "markdown",
      "metadata": {
        "id": "-BZo1veLHeYa",
        "colab_type": "text"
      },
      "source": [
        "We use the import keyword to do this."
      ]
    },
    {
      "cell_type": "code",
      "metadata": {
        "id": "LkdtsKI-HeYb",
        "colab_type": "code",
        "colab": {}
      },
      "source": [
        "import example #imported example module\n"
      ],
      "execution_count": 0,
      "outputs": []
    },
    {
      "cell_type": "markdown",
      "metadata": {
        "id": "8QYfvfCiHeYh",
        "colab_type": "text"
      },
      "source": [
        "Using the module name we can access the function using dot (.) operation."
      ]
    },
    {
      "cell_type": "code",
      "metadata": {
        "id": "4aS7F29GHeYk",
        "colab_type": "code",
        "outputId": "6283c968-e7a6-4450-de6a-94abff22feff",
        "colab": {}
      },
      "source": [
        "example.add(10, 20)\n"
      ],
      "execution_count": 0,
      "outputs": [
        {
          "output_type": "execute_result",
          "data": {
            "text/plain": [
              "30"
            ]
          },
          "metadata": {
            "tags": []
          },
          "execution_count": 3
        }
      ]
    },
    {
      "cell_type": "markdown",
      "metadata": {
        "id": "UzrMkOH9HeYs",
        "colab_type": "text"
      },
      "source": [
        "Python has a lot of standard modules available.\n",
        "\n",
        "https://docs.python.org/3/py-modindex.html "
      ]
    },
    {
      "cell_type": "markdown",
      "metadata": {
        "id": "k-zR_tU7HeYs",
        "colab_type": "text"
      },
      "source": [
        "# Examples:"
      ]
    },
    {
      "cell_type": "code",
      "metadata": {
        "id": "dRUqBrXjHeYt",
        "colab_type": "code",
        "outputId": "63eff854-f097-4ec0-e179-a5b416b89972",
        "colab": {
          "base_uri": "https://localhost:8080/",
          "height": 34
        }
      },
      "source": [
        "import math\n",
        "print(math.pi)\n"
      ],
      "execution_count": 2,
      "outputs": [
        {
          "output_type": "stream",
          "text": [
            "3.141592653589793\n"
          ],
          "name": "stdout"
        }
      ]
    },
    {
      "cell_type": "code",
      "metadata": {
        "id": "wr-Jyr-cHeY1",
        "colab_type": "code",
        "outputId": "0af2ee2f-5a69-408d-9571-9517e67d58fb",
        "colab": {
          "base_uri": "https://localhost:8080/",
          "height": 34
        }
      },
      "source": [
        "import datetime\n",
        "datetime.datetime.now()\n"
      ],
      "execution_count": 3,
      "outputs": [
        {
          "output_type": "execute_result",
          "data": {
            "text/plain": [
              "datetime.datetime(2020, 6, 4, 15, 38, 8, 385566)"
            ]
          },
          "metadata": {
            "tags": []
          },
          "execution_count": 3
        }
      ]
    },
    {
      "cell_type": "markdown",
      "metadata": {
        "id": "34mCV3oJHeY4",
        "colab_type": "text"
      },
      "source": [
        "# import with renaming"
      ]
    },
    {
      "cell_type": "code",
      "metadata": {
        "id": "BljTPvmRHeY5",
        "colab_type": "code",
        "outputId": "6a048637-09c9-4db0-8392-06e3f829c3d4",
        "colab": {
          "base_uri": "https://localhost:8080/",
          "height": 34
        }
      },
      "source": [
        "import math as m\n",
        "print(m.pi)\n"
      ],
      "execution_count": 4,
      "outputs": [
        {
          "output_type": "stream",
          "text": [
            "3.141592653589793\n"
          ],
          "name": "stdout"
        }
      ]
    },
    {
      "cell_type": "markdown",
      "metadata": {
        "id": "Yck3dGWaHeY-",
        "colab_type": "text"
      },
      "source": [
        "# from...import statement"
      ]
    },
    {
      "cell_type": "markdown",
      "metadata": {
        "id": "PgxZkgecHeY_",
        "colab_type": "text"
      },
      "source": [
        "We can import specific names form a module without importing the module as a whole."
      ]
    },
    {
      "cell_type": "code",
      "metadata": {
        "id": "SAgwJxMuHeZA",
        "colab_type": "code",
        "outputId": "2c84fa59-dd40-41b5-aa7c-4c01e719c8c5",
        "colab": {
          "base_uri": "https://localhost:8080/",
          "height": 34
        }
      },
      "source": [
        "from datetime import datetime \n",
        "datetime.now()\n"
      ],
      "execution_count": 5,
      "outputs": [
        {
          "output_type": "execute_result",
          "data": {
            "text/plain": [
              "datetime.datetime(2020, 6, 4, 15, 39, 7, 80919)"
            ]
          },
          "metadata": {
            "tags": []
          },
          "execution_count": 5
        }
      ]
    },
    {
      "cell_type": "markdown",
      "metadata": {
        "id": "3FKKbMKCHeZL",
        "colab_type": "text"
      },
      "source": [
        "# import all names"
      ]
    },
    {
      "cell_type": "code",
      "metadata": {
        "id": "OvEe2dxZHeZM",
        "colab_type": "code",
        "outputId": "465f96e8-0907-41f3-dd8d-bc72615da234",
        "colab": {
          "base_uri": "https://localhost:8080/",
          "height": 34
        }
      },
      "source": [
        "from math import *\n",
        "print(\"Value of PI is \" + str(pi))\n"
      ],
      "execution_count": 6,
      "outputs": [
        {
          "output_type": "stream",
          "text": [
            "Value of PI is 3.141592653589793\n"
          ],
          "name": "stdout"
        }
      ]
    },
    {
      "cell_type": "markdown",
      "metadata": {
        "id": "dPVCLPyQHeZR",
        "colab_type": "text"
      },
      "source": [
        "# dir() built in function"
      ]
    },
    {
      "cell_type": "markdown",
      "metadata": {
        "id": "EPRn9wTiHeZT",
        "colab_type": "text"
      },
      "source": [
        "We can use the dir() function to find out names that are defined inside a module."
      ]
    },
    {
      "cell_type": "code",
      "metadata": {
        "id": "T9PeK-KxHeZX",
        "colab_type": "code",
        "outputId": "bc7277fe-2c92-44cc-f3bc-368bc583a9b6",
        "colab": {
          "base_uri": "https://localhost:8080/",
          "height": 935
        }
      },
      "source": [
        "dir(math)\n"
      ],
      "execution_count": 8,
      "outputs": [
        {
          "output_type": "execute_result",
          "data": {
            "text/plain": [
              "['__doc__',\n",
              " '__loader__',\n",
              " '__name__',\n",
              " '__package__',\n",
              " '__spec__',\n",
              " 'acos',\n",
              " 'acosh',\n",
              " 'asin',\n",
              " 'asinh',\n",
              " 'atan',\n",
              " 'atan2',\n",
              " 'atanh',\n",
              " 'ceil',\n",
              " 'copysign',\n",
              " 'cos',\n",
              " 'cosh',\n",
              " 'degrees',\n",
              " 'e',\n",
              " 'erf',\n",
              " 'erfc',\n",
              " 'exp',\n",
              " 'expm1',\n",
              " 'fabs',\n",
              " 'factorial',\n",
              " 'floor',\n",
              " 'fmod',\n",
              " 'frexp',\n",
              " 'fsum',\n",
              " 'gamma',\n",
              " 'gcd',\n",
              " 'hypot',\n",
              " 'inf',\n",
              " 'isclose',\n",
              " 'isfinite',\n",
              " 'isinf',\n",
              " 'isnan',\n",
              " 'ldexp',\n",
              " 'lgamma',\n",
              " 'log',\n",
              " 'log10',\n",
              " 'log1p',\n",
              " 'log2',\n",
              " 'modf',\n",
              " 'nan',\n",
              " 'pi',\n",
              " 'pow',\n",
              " 'radians',\n",
              " 'sin',\n",
              " 'sinh',\n",
              " 'sqrt',\n",
              " 'tan',\n",
              " 'tanh',\n",
              " 'tau',\n",
              " 'trunc']"
            ]
          },
          "metadata": {
            "tags": []
          },
          "execution_count": 8
        }
      ]
    },
    {
      "cell_type": "code",
      "metadata": {
        "id": "1vvA0aSwHeZb",
        "colab_type": "code",
        "outputId": "b21d5b7d-27bd-4aa3-ee51-77cd87ce5921",
        "colab": {
          "base_uri": "https://localhost:8080/",
          "height": 68
        }
      },
      "source": [
        "print(math.sin.__doc__)\n"
      ],
      "execution_count": 10,
      "outputs": [
        {
          "output_type": "stream",
          "text": [
            "sin(x)\n",
            "\n",
            "Return the sine of x (measured in radians).\n"
          ],
          "name": "stdout"
        }
      ]
    }
  ]
}