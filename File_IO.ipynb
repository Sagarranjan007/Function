{
  "nbformat": 4,
  "nbformat_minor": 0,
  "metadata": {
    "colab": {
      "name": "File_IO.ipynb",
      "provenance": [],
      "include_colab_link": true
    },
    "kernelspec": {
      "display_name": "Python 3",
      "language": "python",
      "name": "python3"
    }
  },
  "cells": [
    {
      "cell_type": "markdown",
      "metadata": {
        "id": "view-in-github",
        "colab_type": "text"
      },
      "source": [
        "<a href=\"https://colab.research.google.com/github/Sagarranjan007/Function/blob/master/File_IO.ipynb\" target=\"_parent\"><img src=\"https://colab.research.google.com/assets/colab-badge.svg\" alt=\"Open In Colab\"/></a>"
      ]
    },
    {
      "cell_type": "markdown",
      "metadata": {
        "id": "OpiYbzc_-I9H",
        "colab_type": "text"
      },
      "source": [
        "# FILE I/O"
      ]
    },
    {
      "cell_type": "markdown",
      "metadata": {
        "id": "eEgVtQEi-I9I",
        "colab_type": "text"
      },
      "source": [
        "File is a named location on disk to store related information. It is used to permanently store data in a non-volatile memory (e.g. hard disk).\n",
        "\n",
        "Since, random access memory (RAM) is volatile which loses its data when computer is turned off, we use files for future use of the data.\n",
        "\n",
        "When we want to read from or write to a file we need to open it first. When we are done, it needs to be closed, so that resources that are tied with the file are freed.\n",
        "\n",
        "File operation:\n",
        "\n",
        "1. Open a file\n",
        "\n",
        "2. Read or write (perform operation)\n",
        "\n",
        "3. Close the file"
      ]
    },
    {
      "cell_type": "markdown",
      "metadata": {
        "id": "Yoz97zfk-I9J",
        "colab_type": "text"
      },
      "source": [
        "# Opening a File"
      ]
    },
    {
      "cell_type": "markdown",
      "metadata": {
        "id": "kKSic099-I9K",
        "colab_type": "text"
      },
      "source": [
        "Python has a built-in function open() to open a file. This function returns a file object, also called a handle, as it is used to read or modify the file accordingly."
      ]
    },
    {
      "cell_type": "code",
      "metadata": {
        "id": "_Gdj7ZzH-I9L",
        "colab_type": "code",
        "colab": {}
      },
      "source": [
        "f = open('example.txt') #open file in current direcotry"
      ],
      "execution_count": 0,
      "outputs": []
    },
    {
      "cell_type": "markdown",
      "metadata": {
        "id": "lUwZz0B2-I9P",
        "colab_type": "text"
      },
      "source": [
        "We can specify the mode while opening a file. In mode, we specify whether we want to read 'r', write 'w' or append 'a' to the file. We also specify if we want to open the file in text mode or binary mode."
      ]
    },
    {
      "cell_type": "markdown",
      "metadata": {
        "id": "xS4zcuRQ-I9Q",
        "colab_type": "text"
      },
      "source": [
        "# Python File Modes"
      ]
    },
    {
      "cell_type": "markdown",
      "metadata": {
        "id": "Frkbet6C-I9R",
        "colab_type": "text"
      },
      "source": [
        "'r' Open a file for reading. (default)\n",
        "\n",
        "'w' Open a file for writing. Creates a new file if it does not exist or truncates the file if it exists.\n",
        "\n",
        "'x' Open a file for exclusive creation. If the file already exists, the operation fails.\n",
        "\n",
        "'a' Open for appending at the end of the file without truncating it. Creates a new file if it does not exist.\n",
        "\n",
        "'t' Open in text mode. (default)\n",
        "\n",
        "'b' Open in binary mode.\n",
        "\n",
        "'+' Open a file for updating (reading and writing)"
      ]
    },
    {
      "cell_type": "code",
      "metadata": {
        "id": "9D2H7IkE-I9S",
        "colab_type": "code",
        "colab": {}
      },
      "source": [
        "f = open('example.txt') #equivalent to 'r' \n",
        "f = open('example.txt', 'r')\n",
        "\n",
        "f = open('test.txt', 'w')"
      ],
      "execution_count": 0,
      "outputs": []
    },
    {
      "cell_type": "markdown",
      "metadata": {
        "id": "Ns8S234S-I9V",
        "colab_type": "text"
      },
      "source": [
        "The default encoding is platform dependent. In windows, it is 'cp1252' but 'utf-8' in Linux."
      ]
    },
    {
      "cell_type": "markdown",
      "metadata": {
        "id": "RbXvbr2u-I9W",
        "colab_type": "text"
      },
      "source": [
        "So, we must not also rely on the default encoding or else our code will behave differently in different platforms.\n",
        "\n",
        "Hence, when working with files in text mode, it is highly recommended to specify the encoding type."
      ]
    },
    {
      "cell_type": "markdown",
      "metadata": {
        "id": "dQ-Q_7sM-I9X",
        "colab_type": "text"
      },
      "source": [
        "# Closing a File"
      ]
    },
    {
      "cell_type": "markdown",
      "metadata": {
        "id": "XPZWiNao-I9Y",
        "colab_type": "text"
      },
      "source": [
        "Closing a file will free up the resources that were tied with the file and is done using the close() method.\n",
        "\n",
        "Python has a garbage collector to clean up unreferenced objects but, we must not rely on it to close the file."
      ]
    },
    {
      "cell_type": "code",
      "metadata": {
        "id": "EgFZBjcn-I9Y",
        "colab_type": "code",
        "colab": {}
      },
      "source": [
        "f = open('example.txt')\n",
        "f.close()"
      ],
      "execution_count": 0,
      "outputs": []
    },
    {
      "cell_type": "markdown",
      "metadata": {
        "id": "SuymHIy4-I9b",
        "colab_type": "text"
      },
      "source": [
        "This method is not entirely safe. If an exception occurs when we are performing some operation with the file, the code exits without closing the file.\n",
        "\n",
        "A safer way is to use a try...finally block."
      ]
    },
    {
      "cell_type": "code",
      "metadata": {
        "id": "H40_LhQX-I9c",
        "colab_type": "code",
        "colab": {}
      },
      "source": [
        "try:\n",
        "   f = open(\"example.txt\")\n",
        "   # perform file operations\n",
        "    \n",
        "finally:\n",
        "   f.close()"
      ],
      "execution_count": 0,
      "outputs": []
    },
    {
      "cell_type": "markdown",
      "metadata": {
        "id": "6Yj2nnCF-I9g",
        "colab_type": "text"
      },
      "source": [
        "This way, we are guaranteed that the file is properly closed even if an exception is raised, causing program flow to stop.\n",
        "\n",
        "The best way to do this is using the with statement. This ensures that the file is closed when the block inside with is exited.\n",
        "\n",
        "We don't need to explicitly call the close() method. It is done internally.\n",
        "\n",
        "with open(\"example.txt\",encoding = 'utf-8') as f:\n",
        "    #perform file operations"
      ]
    },
    {
      "cell_type": "markdown",
      "metadata": {
        "id": "rT9YXHm5-I9h",
        "colab_type": "text"
      },
      "source": [
        "# Writing to a File"
      ]
    },
    {
      "cell_type": "markdown",
      "metadata": {
        "id": "7AcveWU--I9i",
        "colab_type": "text"
      },
      "source": [
        "In order to write into a file we need to open it in **write 'w', append 'a' or exclusive creation 'x' mode**.\n",
        "\n",
        "We need to be careful with the 'w' mode as it will overwrite into the file if it already exists. All previous data are erased.\n",
        "\n",
        "Writing a string or sequence of bytes (for binary files) is done using **write()** method. This method returns the number of characters written to the file."
      ]
    },
    {
      "cell_type": "code",
      "metadata": {
        "id": "E7KJA608-I9j",
        "colab_type": "code",
        "colab": {}
      },
      "source": [
        "f = open(\"test.txt\", \"w\")\n",
        "f.write(\"This is a First File\\n\")\n",
        "f.write(\"Contains two lines\\n\")\n",
        "f.close()\n",
        "    \n",
        "    \n",
        "    "
      ],
      "execution_count": 0,
      "outputs": []
    },
    {
      "cell_type": "markdown",
      "metadata": {
        "id": "hMP_Q5Ky-I9m",
        "colab_type": "text"
      },
      "source": [
        "This program will create a new file named 'test.txt' if it does not exist. If it does exist, it is overwritten.\n",
        "\n"
      ]
    },
    {
      "cell_type": "markdown",
      "metadata": {
        "id": "XAsUdLy_-I9n",
        "colab_type": "text"
      },
      "source": [
        "# Reading From a File"
      ]
    },
    {
      "cell_type": "markdown",
      "metadata": {
        "id": "TaVBxHrK-I9o",
        "colab_type": "text"
      },
      "source": [
        "There are various methods available for this purpose. We can use the read(size) method to read in size number of data. If size parameter is not specified, it reads and returns up to the end of the file."
      ]
    },
    {
      "cell_type": "code",
      "metadata": {
        "id": "ihVhH_Oz-I9p",
        "colab_type": "code",
        "outputId": "7368bd94-ee13-4a46-89fa-965562e8ae34",
        "colab": {}
      },
      "source": [
        "f = open(\"test.txt\", \"r\")\n",
        "f.read()"
      ],
      "execution_count": 0,
      "outputs": [
        {
          "output_type": "execute_result",
          "data": {
            "text/plain": [
              "'This is a First File\\nContains two lines\\n'"
            ]
          },
          "metadata": {
            "tags": []
          },
          "execution_count": 9
        }
      ]
    },
    {
      "cell_type": "code",
      "metadata": {
        "id": "uwhOZMfz-I9u",
        "colab_type": "code",
        "outputId": "3870e132-8613-42bb-b313-2fb5c5e167cc",
        "colab": {
          "base_uri": "https://localhost:8080/",
          "height": 34
        }
      },
      "source": [
        "f = open(\"test.txt\", \"r\")\n",
        "f.read(4)"
      ],
      "execution_count": 6,
      "outputs": [
        {
          "output_type": "execute_result",
          "data": {
            "text/plain": [
              "'This'"
            ]
          },
          "metadata": {
            "tags": []
          },
          "execution_count": 6
        }
      ]
    },
    {
      "cell_type": "code",
      "metadata": {
        "id": "EOJUJpMs-I9x",
        "colab_type": "code",
        "outputId": "409866d4-ffa7-4ec5-fce9-bd6c0e133127",
        "colab": {
          "base_uri": "https://localhost:8080/",
          "height": 34
        }
      },
      "source": [
        "#f = open(\"test.txt\",\"r\")\n",
        "f.read(10)"
      ],
      "execution_count": 7,
      "outputs": [
        {
          "output_type": "execute_result",
          "data": {
            "text/plain": [
              "' is a Firs'"
            ]
          },
          "metadata": {
            "tags": []
          },
          "execution_count": 7
        }
      ]
    },
    {
      "cell_type": "markdown",
      "metadata": {
        "id": "gucrvSrD-I90",
        "colab_type": "text"
      },
      "source": [
        "We can change our current file cursor (position) using the seek() method. \n",
        "\n",
        "Similarly, the **tell()** method returns our current position (in number of bytes)."
      ]
    },
    {
      "cell_type": "code",
      "metadata": {
        "id": "N6Va2QEe-I91",
        "colab_type": "code",
        "outputId": "1a8733a7-a61a-4413-ffc6-e58fb2a39753",
        "colab": {
          "base_uri": "https://localhost:8080/",
          "height": 34
        }
      },
      "source": [
        "f.tell()"
      ],
      "execution_count": 8,
      "outputs": [
        {
          "output_type": "execute_result",
          "data": {
            "text/plain": [
              "14"
            ]
          },
          "metadata": {
            "tags": []
          },
          "execution_count": 8
        }
      ]
    },
    {
      "cell_type": "code",
      "metadata": {
        "id": "R_yQsOIi-I95",
        "colab_type": "code",
        "outputId": "90816fcd-30b4-477f-eeda-9ea6f5ecf6fe",
        "colab": {
          "base_uri": "https://localhost:8080/",
          "height": 34
        }
      },
      "source": [
        "f.seek(0) #bring the file cursor to initial position"
      ],
      "execution_count": 9,
      "outputs": [
        {
          "output_type": "execute_result",
          "data": {
            "text/plain": [
              "0"
            ]
          },
          "metadata": {
            "tags": []
          },
          "execution_count": 9
        }
      ]
    },
    {
      "cell_type": "code",
      "metadata": {
        "id": "2lLZksIh-I9-",
        "colab_type": "code",
        "outputId": "187a4aca-31ad-4945-9e83-e306c5243130",
        "colab": {
          "base_uri": "https://localhost:8080/",
          "height": 68
        }
      },
      "source": [
        "print(f.read()) #read the entire file"
      ],
      "execution_count": 10,
      "outputs": [
        {
          "output_type": "stream",
          "text": [
            "This is a First File\n",
            "Contains two lines\n",
            "\n"
          ],
          "name": "stdout"
        }
      ]
    },
    {
      "cell_type": "markdown",
      "metadata": {
        "id": "6zmCZQeL-I-D",
        "colab_type": "text"
      },
      "source": [
        "We can read a file line-by-line using a for loop. This is both efficient and fast."
      ]
    },
    {
      "cell_type": "code",
      "metadata": {
        "id": "QkI5JefZ-I-E",
        "colab_type": "code",
        "outputId": "8a7d2bfb-7b12-4970-9360-dedeb3799a63",
        "colab": {
          "base_uri": "https://localhost:8080/",
          "height": 85
        }
      },
      "source": [
        "f.seek(0)\n",
        "for line in f:\n",
        "    print(line)"
      ],
      "execution_count": 11,
      "outputs": [
        {
          "output_type": "stream",
          "text": [
            "This is a First File\n",
            "\n",
            "Contains two lines\n",
            "\n"
          ],
          "name": "stdout"
        }
      ]
    },
    {
      "cell_type": "markdown",
      "metadata": {
        "id": "uQnQGQII-I-H",
        "colab_type": "text"
      },
      "source": [
        "Alternately, we can use readline() method to read individual lines of a file. This method reads a file till the newline, including the newline character."
      ]
    },
    {
      "cell_type": "code",
      "metadata": {
        "id": "Mx_WsZ16-I-I",
        "colab_type": "code",
        "outputId": "63b24dd0-73a7-4abd-bb51-0b8a98209fba",
        "colab": {
          "base_uri": "https://localhost:8080/",
          "height": 34
        }
      },
      "source": [
        "f = open(\"test.txt\", \"r\")\n",
        "f.readline()"
      ],
      "execution_count": 12,
      "outputs": [
        {
          "output_type": "execute_result",
          "data": {
            "text/plain": [
              "'This is a First File\\n'"
            ]
          },
          "metadata": {
            "tags": []
          },
          "execution_count": 12
        }
      ]
    },
    {
      "cell_type": "code",
      "metadata": {
        "scrolled": true,
        "id": "E8cmYnsB-I-L",
        "colab_type": "code",
        "outputId": "3fa2f735-9b45-4d63-a61c-80022273659d",
        "colab": {
          "base_uri": "https://localhost:8080/",
          "height": 34
        }
      },
      "source": [
        "f.readline()"
      ],
      "execution_count": 13,
      "outputs": [
        {
          "output_type": "execute_result",
          "data": {
            "text/plain": [
              "'Contains two lines\\n'"
            ]
          },
          "metadata": {
            "tags": []
          },
          "execution_count": 13
        }
      ]
    },
    {
      "cell_type": "code",
      "metadata": {
        "id": "Fwbrlu2D-I-O",
        "colab_type": "code",
        "outputId": "64d5dbf8-d492-4b9c-c16d-5c8c84632812",
        "colab": {
          "base_uri": "https://localhost:8080/",
          "height": 34
        }
      },
      "source": [
        "f.readline()"
      ],
      "execution_count": 14,
      "outputs": [
        {
          "output_type": "execute_result",
          "data": {
            "text/plain": [
              "''"
            ]
          },
          "metadata": {
            "tags": []
          },
          "execution_count": 14
        }
      ]
    },
    {
      "cell_type": "markdown",
      "metadata": {
        "id": "dkZ4bgQE-I-S",
        "colab_type": "text"
      },
      "source": [
        "The **readlines()** method returns a list of remaining lines of the entire file. All these reading method return empty values when end of file (EOF) is reached."
      ]
    },
    {
      "cell_type": "code",
      "metadata": {
        "id": "hDxyjanv-I-T",
        "colab_type": "code",
        "outputId": "71115223-6016-492a-d344-672c891d2241",
        "colab": {
          "base_uri": "https://localhost:8080/",
          "height": 34
        }
      },
      "source": [
        "f.seek(0)\n",
        "f.readlines()"
      ],
      "execution_count": 15,
      "outputs": [
        {
          "output_type": "execute_result",
          "data": {
            "text/plain": [
              "['This is a First File\\n', 'Contains two lines\\n']"
            ]
          },
          "metadata": {
            "tags": []
          },
          "execution_count": 15
        }
      ]
    },
    {
      "cell_type": "markdown",
      "metadata": {
        "id": "CHI64VRI-I-W",
        "colab_type": "text"
      },
      "source": [
        "# Renaming And Deleting Files In Python."
      ]
    },
    {
      "cell_type": "markdown",
      "metadata": {
        "id": "ddW_Trga-I-X",
        "colab_type": "text"
      },
      "source": [
        "While you were using the **read/write** functions, you may also need to **rename/delete** a file in Python. So, there comes a **os** module in Python which brings the support of file **rename/delete** operations.\n",
        "\n",
        "So, to continue, first of all, you should import the **os** module in your Python script."
      ]
    },
    {
      "cell_type": "code",
      "metadata": {
        "id": "-91N_Ly9-I-Y",
        "colab_type": "code",
        "colab": {}
      },
      "source": [
        "import os\n",
        "\n",
        "#Rename a file from test.txt to sample.txt\n",
        "os.rename(\"test.txt\", \"sample.txt\")"
      ],
      "execution_count": 0,
      "outputs": []
    },
    {
      "cell_type": "code",
      "metadata": {
        "id": "ksKnCMAs-I-b",
        "colab_type": "code",
        "outputId": "112d79f0-e6e2-4eca-c025-c1c14a5abd01",
        "colab": {
          "base_uri": "https://localhost:8080/",
          "height": 34
        }
      },
      "source": [
        "f = open(\"sample.txt\", \"r\")\n",
        "f.readline()"
      ],
      "execution_count": 17,
      "outputs": [
        {
          "output_type": "execute_result",
          "data": {
            "text/plain": [
              "'This is a First File\\n'"
            ]
          },
          "metadata": {
            "tags": []
          },
          "execution_count": 17
        }
      ]
    },
    {
      "cell_type": "code",
      "metadata": {
        "id": "95_26jr0-I-f",
        "colab_type": "code",
        "colab": {}
      },
      "source": [
        "#Delete a file sample.txt\n",
        "os.remove(\"sample.txt\")"
      ],
      "execution_count": 0,
      "outputs": []
    },
    {
      "cell_type": "code",
      "metadata": {
        "id": "v2kTYfUY-I-i",
        "colab_type": "code",
        "outputId": "1625b24b-4253-477b-8c77-91b869d6e7bf",
        "colab": {
          "base_uri": "https://localhost:8080/",
          "height": 181
        }
      },
      "source": [
        "f = open(\"sample.txt\", \"r\")\n",
        "f.readline()"
      ],
      "execution_count": 19,
      "outputs": [
        {
          "output_type": "error",
          "ename": "FileNotFoundError",
          "evalue": "ignored",
          "traceback": [
            "\u001b[0;31m---------------------------------------------------------------------------\u001b[0m",
            "\u001b[0;31mFileNotFoundError\u001b[0m                         Traceback (most recent call last)",
            "\u001b[0;32m<ipython-input-19-ef92250cbae3>\u001b[0m in \u001b[0;36m<module>\u001b[0;34m()\u001b[0m\n\u001b[0;32m----> 1\u001b[0;31m \u001b[0mf\u001b[0m \u001b[0;34m=\u001b[0m \u001b[0mopen\u001b[0m\u001b[0;34m(\u001b[0m\u001b[0;34m\"sample.txt\"\u001b[0m\u001b[0;34m,\u001b[0m \u001b[0;34m\"r\"\u001b[0m\u001b[0;34m)\u001b[0m\u001b[0;34m\u001b[0m\u001b[0;34m\u001b[0m\u001b[0m\n\u001b[0m\u001b[1;32m      2\u001b[0m \u001b[0mf\u001b[0m\u001b[0;34m.\u001b[0m\u001b[0mreadline\u001b[0m\u001b[0;34m(\u001b[0m\u001b[0;34m)\u001b[0m\u001b[0;34m\u001b[0m\u001b[0;34m\u001b[0m\u001b[0m\n",
            "\u001b[0;31mFileNotFoundError\u001b[0m: [Errno 2] No such file or directory: 'sample.txt'"
          ]
        }
      ]
    },
    {
      "cell_type": "markdown",
      "metadata": {
        "id": "9BTPHgEb-I-m",
        "colab_type": "text"
      },
      "source": [
        "# Python Directory and File Management"
      ]
    },
    {
      "cell_type": "markdown",
      "metadata": {
        "id": "duJL9eJrEIey",
        "colab_type": "text"
      },
      "source": [
        ""
      ]
    },
    {
      "cell_type": "markdown",
      "metadata": {
        "id": "gI0frFSc-I-n",
        "colab_type": "text"
      },
      "source": [
        "If there are a large number of files to handle in your Python program, you can arrange your code within different directories to make things more manageable.\n",
        "\n",
        "A directory or folder is a collection of files and sub directories. Python has the os module, which provides us with many useful methods to work with directories (and files as well)."
      ]
    },
    {
      "cell_type": "markdown",
      "metadata": {
        "id": "RX2Gd4dH-I-o",
        "colab_type": "text"
      },
      "source": [
        "**Get current Directory**"
      ]
    },
    {
      "cell_type": "markdown",
      "metadata": {
        "id": "dXkTmder-I-p",
        "colab_type": "text"
      },
      "source": [
        "We can get the present working directory using the getcwd() method.\n",
        "\n",
        "This method returns the current working directory in the form of a string. "
      ]
    },
    {
      "cell_type": "code",
      "metadata": {
        "id": "PQQ1bB7K-I-q",
        "colab_type": "code",
        "outputId": "c320e9a3-e6cc-4134-f32b-9b56e76d5046",
        "colab": {
          "base_uri": "https://localhost:8080/",
          "height": 34
        }
      },
      "source": [
        "import os\n",
        "os.getcwd()"
      ],
      "execution_count": 20,
      "outputs": [
        {
          "output_type": "execute_result",
          "data": {
            "text/plain": [
              "'/content'"
            ]
          },
          "metadata": {
            "tags": []
          },
          "execution_count": 20
        }
      ]
    },
    {
      "cell_type": "markdown",
      "metadata": {
        "id": "NbwyLh4v-I-t",
        "colab_type": "text"
      },
      "source": [
        "**Changing Directory**"
      ]
    },
    {
      "cell_type": "markdown",
      "metadata": {
        "id": "wJYX56-D-I-u",
        "colab_type": "text"
      },
      "source": [
        "We can change the current working directory using the chdir() method.\n",
        "\n",
        "The new path that we want to change to must be supplied as a string to this method. We can use both forward slash (/) or the backward slash (\\) to separate path elements."
      ]
    },
    {
      "cell_type": "code",
      "metadata": {
        "id": "adRHTncO-I-u",
        "colab_type": "code",
        "colab": {}
      },
      "source": [
        "os.chdir(\"/Users/varma/\")"
      ],
      "execution_count": 0,
      "outputs": []
    },
    {
      "cell_type": "code",
      "metadata": {
        "id": "STo5qfdl-I-w",
        "colab_type": "code",
        "outputId": "80fb501d-e356-4bd6-c8bb-aa17fdc65f7d",
        "colab": {}
      },
      "source": [
        "os.getcwd()"
      ],
      "execution_count": 0,
      "outputs": [
        {
          "output_type": "execute_result",
          "data": {
            "text/plain": [
              "'/Users/varma'"
            ]
          },
          "metadata": {
            "tags": []
          },
          "execution_count": 30
        }
      ]
    },
    {
      "cell_type": "markdown",
      "metadata": {
        "id": "GnL096oQ-I-z",
        "colab_type": "text"
      },
      "source": [
        "**List Directories and Files**"
      ]
    },
    {
      "cell_type": "markdown",
      "metadata": {
        "id": "k8VhcECb-I-z",
        "colab_type": "text"
      },
      "source": [
        "All files and sub directories inside a directory can be known using the listdir() method."
      ]
    },
    {
      "cell_type": "code",
      "metadata": {
        "id": "RMt4M70i-I-0",
        "colab_type": "code",
        "outputId": "91d05521-ffa4-4c20-fdda-1f6e58b9fb5d",
        "colab": {
          "base_uri": "https://localhost:8080/",
          "height": 34
        }
      },
      "source": [
        "os.listdir(os.getcwd())"
      ],
      "execution_count": 21,
      "outputs": [
        {
          "output_type": "execute_result",
          "data": {
            "text/plain": [
              "['.config', 'example.txt', 'sample_data']"
            ]
          },
          "metadata": {
            "tags": []
          },
          "execution_count": 21
        }
      ]
    },
    {
      "cell_type": "markdown",
      "metadata": {
        "collapsed": true,
        "id": "aAju12lk-I-3",
        "colab_type": "text"
      },
      "source": [
        "**Making New Directory**"
      ]
    },
    {
      "cell_type": "markdown",
      "metadata": {
        "id": "_sbXkYLl-I-4",
        "colab_type": "text"
      },
      "source": [
        "We can make a new directory using the mkdir() method.\n",
        "\n",
        "This method takes in the path of the new directory. If the full path is not specified, the new directory is created in the current working directory."
      ]
    },
    {
      "cell_type": "code",
      "metadata": {
        "id": "V0mfK9V9-I-5",
        "colab_type": "code",
        "colab": {}
      },
      "source": [
        "os.mkdir('test')"
      ],
      "execution_count": 0,
      "outputs": []
    },
    {
      "cell_type": "markdown",
      "metadata": {
        "id": "8hMr4f93-I-8",
        "colab_type": "text"
      },
      "source": [
        "However, note that rmdir() method can only remove empty directories.\n",
        "\n",
        "In order to remove a non-empty directory we can use the rmtree() method inside the shutil module."
      ]
    },
    {
      "cell_type": "code",
      "metadata": {
        "scrolled": true,
        "id": "1ZPkqVtz-I-9",
        "colab_type": "code",
        "colab": {}
      },
      "source": [
        "os.rmdir('test')"
      ],
      "execution_count": 0,
      "outputs": []
    },
    {
      "cell_type": "code",
      "metadata": {
        "id": "DSSYlZ3q-I_B",
        "colab_type": "code",
        "outputId": "17432a02-34f1-4ef1-c8a6-ca95e0e1a54c",
        "colab": {
          "base_uri": "https://localhost:8080/",
          "height": 198
        }
      },
      "source": [
        "import shutil\n",
        "\n",
        "os.mkdir('test')\n",
        "os.chdir('./test')\n",
        "f = open(\"testfile.txt\",'w')\n",
        "f.write(\"Hello World\")\n",
        "os.chdir(\"../\")\n",
        "os.rmdir('test')\n"
      ],
      "execution_count": 24,
      "outputs": [
        {
          "output_type": "error",
          "ename": "OSError",
          "evalue": "ignored",
          "traceback": [
            "\u001b[0;31m---------------------------------------------------------------------------\u001b[0m",
            "\u001b[0;31mOSError\u001b[0m                                   Traceback (most recent call last)",
            "\u001b[0;32m<ipython-input-24-26b2a6a8d00a>\u001b[0m in \u001b[0;36m<module>\u001b[0;34m()\u001b[0m\n\u001b[1;32m      6\u001b[0m \u001b[0mf\u001b[0m\u001b[0;34m.\u001b[0m\u001b[0mwrite\u001b[0m\u001b[0;34m(\u001b[0m\u001b[0;34m\"Hello World\"\u001b[0m\u001b[0;34m)\u001b[0m\u001b[0;34m\u001b[0m\u001b[0;34m\u001b[0m\u001b[0m\n\u001b[1;32m      7\u001b[0m \u001b[0mos\u001b[0m\u001b[0;34m.\u001b[0m\u001b[0mchdir\u001b[0m\u001b[0;34m(\u001b[0m\u001b[0;34m\"../\"\u001b[0m\u001b[0;34m)\u001b[0m\u001b[0;34m\u001b[0m\u001b[0;34m\u001b[0m\u001b[0m\n\u001b[0;32m----> 8\u001b[0;31m \u001b[0mos\u001b[0m\u001b[0;34m.\u001b[0m\u001b[0mrmdir\u001b[0m\u001b[0;34m(\u001b[0m\u001b[0;34m'test'\u001b[0m\u001b[0;34m)\u001b[0m\u001b[0;34m\u001b[0m\u001b[0;34m\u001b[0m\u001b[0m\n\u001b[0m",
            "\u001b[0;31mOSError\u001b[0m: [Errno 39] Directory not empty: 'test'"
          ]
        }
      ]
    },
    {
      "cell_type": "code",
      "metadata": {
        "id": "vki1ogpm-I_H",
        "colab_type": "code",
        "colab": {}
      },
      "source": [
        "# remove an non-empty directory\n",
        "shutil.rmtree('test')"
      ],
      "execution_count": 0,
      "outputs": []
    },
    {
      "cell_type": "code",
      "metadata": {
        "id": "f_1n9fZU-I_K",
        "colab_type": "code",
        "outputId": "311783a7-c8e2-46b9-ad6e-b7bdd1b8a15f",
        "colab": {
          "base_uri": "https://localhost:8080/",
          "height": 34
        }
      },
      "source": [
        "os.getcwd()"
      ],
      "execution_count": 26,
      "outputs": [
        {
          "output_type": "execute_result",
          "data": {
            "text/plain": [
              "'/content'"
            ]
          },
          "metadata": {
            "tags": []
          },
          "execution_count": 26
        }
      ]
    },
    {
      "cell_type": "code",
      "metadata": {
        "id": "n8QPzT6a-I_M",
        "colab_type": "code",
        "colab": {}
      },
      "source": [
        ""
      ],
      "execution_count": 0,
      "outputs": []
    }
  ]
}